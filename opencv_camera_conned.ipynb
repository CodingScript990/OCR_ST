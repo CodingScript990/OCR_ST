{
 "cells": [
  {
   "cell_type": "code",
   "execution_count": 5,
   "metadata": {},
   "outputs": [],
   "source": [
    "# 패키지, 라이브러리\n",
    "\n",
    "import cv2 # openCV 2 라이브러리(영상 처리를 위한 것)\n",
    "import numpy as np # numpy 라이브러리(계산을 위한 것)\n",
    "import matplotlib.pyplot as plt # matplotlib.pyplot 라이브러리를 이용해 그래프로 시각화하는 모듈\n",
    "import easyocr as eo # easyocr 라이브러리"
   ]
  },
  {
   "cell_type": "code",
   "execution_count": 1,
   "metadata": {},
   "outputs": [
    {
     "ename": "NameError",
     "evalue": "name 'plt' is not defined",
     "output_type": "error",
     "traceback": [
      "\u001b[1;31m---------------------------------------------------------------------------\u001b[0m",
      "\u001b[1;31mNameError\u001b[0m                                 Traceback (most recent call last)",
      "Cell \u001b[1;32mIn [1], line 3\u001b[0m\n\u001b[0;32m      1\u001b[0m \u001b[38;5;66;03m# 그래프 배경색\u001b[39;00m\n\u001b[1;32m----> 3\u001b[0m plt\u001b[38;5;241m.\u001b[39mstyle\u001b[38;5;241m.\u001b[39muse(\u001b[38;5;124m'\u001b[39m\u001b[38;5;124mdark_background\u001b[39m\u001b[38;5;124m'\u001b[39m)\n\u001b[0;32m      5\u001b[0m img_ori \u001b[38;5;241m=\u001b[39m cv2\u001b[38;5;241m.\u001b[39mimread(\u001b[38;5;124m'\u001b[39m\u001b[38;5;124mtest_dt/ad_pt.bmp\u001b[39m\u001b[38;5;124m'\u001b[39m) \u001b[38;5;66;03m# 이미지를 불러온다\u001b[39;00m\n\u001b[0;32m      7\u001b[0m height, width, channel \u001b[38;5;241m=\u001b[39m img_ori\u001b[38;5;241m.\u001b[39mshape \u001b[38;5;66;03m# 이미지 사이즈\u001b[39;00m\n",
      "\u001b[1;31mNameError\u001b[0m: name 'plt' is not defined"
     ]
    }
   ],
   "source": [
    "# 그래프 배경색\n",
    "\n",
    "plt.style.use('dark_background')\n",
    "\n",
    "img_ori = cv2.imread('test_dt/ad_pt.bmp') # 이미지를 불러온다\n",
    "\n",
    "height, width, channel = img_ori.shape # 이미지 사이즈\n",
    "\n",
    "plt.figure(figsize=(12, 10)) # 그림 전체 x축, y축을 말한다\n",
    "\n",
    "plt.imshow(img_ori, cmap='gray')\n",
    "# 필터링(그레이 스케일로 바꾸고) -> 설명할 줄 알기(어떤 로직에서 동작하는지등 설명 및 구분하기)\n",
    "# 이미지 폴더 만들어서 저장(2)"
   ]
  }
 ],
 "metadata": {
  "kernelspec": {
   "display_name": "Python 3.9.13 ('cv_env': venv)",
   "language": "python",
   "name": "python3"
  },
  "language_info": {
   "codemirror_mode": {
    "name": "ipython",
    "version": 3
   },
   "file_extension": ".py",
   "mimetype": "text/x-python",
   "name": "python",
   "nbconvert_exporter": "python",
   "pygments_lexer": "ipython3",
   "version": "3.9.13"
  },
  "orig_nbformat": 4,
  "vscode": {
   "interpreter": {
    "hash": "7961b27a454394bccb453c97b42f443c1ba24def2b13d91e29706eae2b30ac4f"
   }
  }
 },
 "nbformat": 4,
 "nbformat_minor": 2
}
