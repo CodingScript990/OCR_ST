{
 "cells": [
  {
   "cell_type": "code",
   "execution_count": 1,
   "metadata": {},
   "outputs": [],
   "source": [
    "# Filter\n",
    "\n",
    "# 1. Python(프로그램 언어)\n",
    "# 2. vscode(개발도구)\n",
    "# 3. LENOVO 300 FHD(카메라)\n",
    "# 4. OpenCV(라이브러리)\n",
    "\n",
    "import cv2 # opencv 라이브러리\n",
    "import matplotlib.pyplot as plt \n",
    "# matplotlib(라이브러리 : 그래프를 이용하여 데이터를 시각화 해준다)\n",
    "# pyplot(함수 : x,y 값들을 그래프로 데이터 시각화 해준다 - List)\n",
    "import numpy as np \n",
    "# numpy (라이브러리 : 행렬/배열 및 연산등을 해준다)\n",
    "from PIL import ImageFont, ImageDraw, Image, ImageFilter \n",
    "# PIL 이미지 분석 및 처리를 쉽게 변환해주는 라이브러리"
   ]
  },
  {
   "cell_type": "code",
   "execution_count": null,
   "metadata": {},
   "outputs": [],
   "source": [
    "# 이미지 필터링(Image Filtering)\n",
    "\n",
    "# 커널을 이미지 위에서 이동시켜가면서 커널과 겹쳐진 이미지 영역과 연산한 후 결과값을 연산을 진행한 이미지 픽셀을 대신하여 새로운 이미지를\n",
    "# 만드는 연산을 말한다\n",
    "\n",
    "# 커널 : \n",
    "#       1. 연산 대상 픽셀과 그 주변 픽셀들을 활용하여 새로운 픽셀 값을 얻는 방법이다\n",
    "#       2. 주변 픽셀을 어느 범위까지 활용하거나 연산을 어떻게 할지를 결정하는 것을 말한다\n",
    "\n",
    "# 평균 블러링\n",
    "\n",
    "# 블러링은 초점이 맞지 않는 현상 또는 흐릿하게 하는 작업을 말한다\n",
    "# 주변 픽셀 값들의 평균을 적용하여 픽셀간의 차이와 선명도가 전체적으로 흐릿해 지는 것을 말한다\n",
    "\n",
    "# 가우시안 블러링\n",
    "\n",
    "# 커널로 블러링 하는 것을 가우시안 블러링이라고 한다\n",
    "# 평균 근처에 몰려 있는 값들의 개수가 많고 평균에서 멀어질수록 그 개수가 적어지는 것을 말한다\n",
    "# 가우시안 블러링 커널을 적용하면 대상 픽셀에 가까울수록 많은 영향을 주고, 멀어질수록 적은 영향을 주기 때문에 원본 이미지와 \n",
    "# 비슷하면서도 노이즈를 제거하는 효과도 있다\n",
    "\n",
    "# 노이즈\n",
    "\n",
    "# 이미지, 영상등 픽셀 값에 추가되는 원치 않는 형태의 신호를 의미한다.\n",
    "\n",
    "# 미디언 블러링\n",
    "\n",
    "# 소금"
   ]
  },
  {
   "cell_type": "code",
   "execution_count": 4,
   "metadata": {},
   "outputs": [],
   "source": [
    "# 이미지 필터링\n",
    "img = Image.open('test_dt/ad_pt.bmp')\n",
    "# img 객체를 만들고, Python Imaging Library 안에서\n",
    "# open(함수 : 파일을 생성할때 사용한다)\n",
    "\n",
    "img_gray = img.convert('L') # long type\n",
    "# convert (함수 : 데이터 타입을 변환할 때 사용한다)\n",
    "\n",
    "img_gray.show()"
   ]
  },
  {
   "cell_type": "code",
   "execution_count": 5,
   "metadata": {},
   "outputs": [],
   "source": [
    "# 이미지 필터링(엣지)\n",
    "\n",
    "img = Image.open('test_dt/ad_pt.bmp') \n",
    "# \n",
    "\n",
    "img_gray = img.convert('L') # long type\n",
    "# convert (함수 : 데이터 타입을 변환할 때 사용한다)\n",
    "\n",
    "img_blur = img_gray.filter(ImageFilter.EDGE_ENHANCE)\n",
    "\n",
    "img_blur.show()"
   ]
  },
  {
   "cell_type": "code",
   "execution_count": 6,
   "metadata": {},
   "outputs": [
    {
     "ename": "error",
     "evalue": "OpenCV(4.5.4) :-1: error: (-5:Bad argument) in function 'cvtColor'\n> Overload resolution failed:\n>  - cvtColor() missing required argument 'src' (pos 1)\n>  - cvtColor() missing required argument 'src' (pos 1)\n",
     "output_type": "error",
     "traceback": [
      "\u001b[1;31m---------------------------------------------------------------------------\u001b[0m",
      "\u001b[1;31merror\u001b[0m                                     Traceback (most recent call last)",
      "Cell \u001b[1;32mIn [6], line 5\u001b[0m\n\u001b[0;32m      1\u001b[0m \u001b[38;5;66;03m# 이미지 선명화 작업\u001b[39;00m\n\u001b[0;32m      3\u001b[0m img \u001b[38;5;241m=\u001b[39m cv2\u001b[38;5;241m.\u001b[39mimread(\u001b[38;5;124m'\u001b[39m\u001b[38;5;124mtest_dt/ad_pt.bmp\u001b[39m\u001b[38;5;124m'\u001b[39m)\n\u001b[1;32m----> 5\u001b[0m img \u001b[38;5;241m=\u001b[39m cv2\u001b[38;5;241m.\u001b[39mcvtColor()\n\u001b[0;32m      7\u001b[0m img_gray \u001b[38;5;241m=\u001b[39m img\u001b[38;5;241m.\u001b[39mconvert(\u001b[38;5;124m'\u001b[39m\u001b[38;5;124mL\u001b[39m\u001b[38;5;124m'\u001b[39m)\n\u001b[0;32m      9\u001b[0m img_blur \u001b[38;5;241m=\u001b[39m img_gray\u001b[38;5;241m.\u001b[39mfilter(ImageFilter\u001b[38;5;241m.\u001b[39mEDGE_ENHANCE)\n",
      "\u001b[1;31merror\u001b[0m: OpenCV(4.5.4) :-1: error: (-5:Bad argument) in function 'cvtColor'\n> Overload resolution failed:\n>  - cvtColor() missing required argument 'src' (pos 1)\n>  - cvtColor() missing required argument 'src' (pos 1)\n"
     ]
    }
   ],
   "source": [
    "# 이미지 선명화 작업\n",
    "\n",
    "img = cv2.imread('test_dt/ad_pt.bmp')\n",
    "\n",
    "img = cv2.cvtColor()\n",
    "\n",
    "img_gray = img.convert('L')\n",
    "\n",
    "img_blur = img_gray.filter(ImageFilter.EDGE_ENHANCE)\n",
    "\n",
    "#img_smoothed = cv2.GaussianBlur(img_blur, (9, 9), 10)\n",
    "\n",
    "img_unsharped = cv2.addWeighted(img_blur, 1.5, img, -0.5, 0)"
   ]
  }
 ],
 "metadata": {
  "kernelspec": {
   "display_name": "Python 3.9.13 ('cv_env': venv)",
   "language": "python",
   "name": "python3"
  },
  "language_info": {
   "codemirror_mode": {
    "name": "ipython",
    "version": 3
   },
   "file_extension": ".py",
   "mimetype": "text/x-python",
   "name": "python",
   "nbconvert_exporter": "python",
   "pygments_lexer": "ipython3",
   "version": "3.9.13"
  },
  "orig_nbformat": 4,
  "vscode": {
   "interpreter": {
    "hash": "7961b27a454394bccb453c97b42f443c1ba24def2b13d91e29706eae2b30ac4f"
   }
  }
 },
 "nbformat": 4,
 "nbformat_minor": 2
}
